{
 "cells": [
  {
   "cell_type": "markdown",
   "metadata": {},
   "source": [
    "# Tarea 1: Búsqueda de Caserones\n",
    "\n",
    "\n",
    "\n",
    "La tarea tiene como objetivos crear un modelo de caserones y una lista de caserones en conflictos, a partir de un modelo de recursos y dimensiones dadas en un archivo .csv llamado Tarea_1.\n",
    "\n",
    "\n",
    "Primero, se importan las librerías que se usarán en el trabajo (pandas y numpy)."
   ]
  },
  {
   "cell_type": "code",
   "execution_count": 1,
   "metadata": {},
   "outputs": [],
   "source": [
    "import pandas as pd\n",
    "import numpy as np"
   ]
  },
  {
   "cell_type": "markdown",
   "metadata": {},
   "source": [
    "Luego se llama al archivo Tarea_1 de la carpeta de donde se encuentre (si usted la tiene en una carpeta distinta, cambie la dirección del código), y se guarda como una tabla de pandas DataFrame, que facilita y optimiza su modificación."
   ]
  },
  {
   "cell_type": "code",
   "execution_count": 2,
   "metadata": {},
   "outputs": [],
   "source": [
    "modelo_bloque = pd.read_csv(r\"C:\\Users\\jorge\\Documents\\jorge U\\Planificación minera\\Tarea_1.csv\")\n",
    "#print(modelo_bloque)"
   ]
  },
  {
   "cell_type": "markdown",
   "metadata": {},
   "source": [
    "Se agregan 2 columnas correspondientes al tonelaje de finos de cobre y oro (en toneladas), y que nos servirán posteriormente para calcular la ley de los caserones."
   ]
  },
  {
   "cell_type": "code",
   "execution_count": 3,
   "metadata": {},
   "outputs": [
    {
     "name": "stdout",
     "output_type": "stream",
     "text": [
      "         X    Y   Z  sg[t/m3]  tons [t]  au[ppm]  cu[%]  profit [$]  \\\n",
      "0        0    0   0      2.27    283.33      0.0    0.0    -7083.33   \n",
      "1        0    0   5      2.27    283.33      0.0    0.0    -7083.33   \n",
      "2        0    0  10      2.27    283.33      0.0    0.0    -7083.33   \n",
      "3        0    0  15      2.27    283.33      0.0    0.0    -7083.33   \n",
      "4        0    0  20      2.27    283.33      0.0    0.0    -7083.33   \n",
      "...    ...  ...  ..       ...       ...      ...    ...         ...   \n",
      "53266  300  295  60      2.27    283.33      0.0    0.0    -7083.33   \n",
      "53267  300  295  65      2.27    283.33      0.0    0.0    -7083.33   \n",
      "53268  300  295  70      2.27    283.33      0.0    0.0    -7083.33   \n",
      "53269  300  295  75      2.27    283.33      0.0    0.0    -7083.33   \n",
      "53270  300  295  80      2.27    283.33      0.0    0.0    -7083.33   \n",
      "\n",
      "       Finos Cu [t]  Finos Au [t]  \n",
      "0               0.0           0.0  \n",
      "1               0.0           0.0  \n",
      "2               0.0           0.0  \n",
      "3               0.0           0.0  \n",
      "4               0.0           0.0  \n",
      "...             ...           ...  \n",
      "53266           0.0           0.0  \n",
      "53267           0.0           0.0  \n",
      "53268           0.0           0.0  \n",
      "53269           0.0           0.0  \n",
      "53270           0.0           0.0  \n",
      "\n",
      "[53271 rows x 10 columns]\n"
     ]
    }
   ],
   "source": [
    "modelo_bloque[\"Finos Cu [t]\"] = modelo_bloque[\"cu[%]\"] * modelo_bloque[\"tons [t]\"] / 100\n",
    "modelo_bloque[\"Finos Au [t]\"] = modelo_bloque[\"au[ppm]\"] * modelo_bloque[\"tons [t]\"] / 1000000\n",
    "\n",
    "print(modelo_bloque)"
   ]
  },
  {
   "cell_type": "markdown",
   "metadata": {},
   "source": [
    "#### Se crea la tabla de caserones, el entregable, inicialmente como una tabla vacía, con los siguientes atrubutos:\n",
    "\n",
    "    -X_i, Y_i, Z_i : Coordenadas iniciales del caserón (primero bloque abajo, a la izquiera y al fondo).\n",
    "\n",
    "    -X_f, Y_f, Z_f : Coordenadas finales del caserón (Ultimo bloque arriba, a la derecha y al frente).\n",
    "\n",
    "    -Cu [%] : Ley de cobre en porcentaje del caserón.\n",
    "\n",
    "    -Au [ppm] : Ley de oro en ppm del caserón.\n",
    "\n",
    "    -Ton [t] : Tonelaje del caserón.\n",
    "\n",
    "    -B [$] : Beneficio en pesos de extraer el caserón."
   ]
  },
  {
   "cell_type": "code",
   "execution_count": 4,
   "metadata": {},
   "outputs": [
    {
     "name": "stdout",
     "output_type": "stream",
     "text": [
      "Empty DataFrame\n",
      "Columns: [X_i, Y_i, Z_i, X_f, Y_f, Z_f, Cu [%], Au [ppm], Ton [t], B [$]]\n",
      "Index: []\n"
     ]
    }
   ],
   "source": [
    "caserones = pd.DataFrame({\"X_i\":[], \"Y_i\":[], \"Z_i\":[],\n",
    "                     \"X_f\":[], \"Y_f\":[], \"Z_f\":[],\n",
    "                     \"Cu [%]\":[], \"Au [ppm]\":[], \"Ton [t]\":[], \"B [$]\":[]})\n",
    "print(caserones)"
   ]
  },
  {
   "cell_type": "markdown",
   "metadata": {},
   "source": [
    "## Caserones\n",
    "\n",
    "A continuación, se crea una excel con todos los caserones posibles del modelo de bloques."
   ]
  },
  {
   "cell_type": "code",
   "execution_count": 8,
   "metadata": {},
   "outputs": [
    {
     "name": "stdout",
     "output_type": "stream",
     "text": [
      "        X_i    Y_i   Z_i    X_f    Y_f   Z_f    Cu [%]  Au [ppm]   Ton [t]  \\\n",
      "0      45.0  100.0  20.0   60.0  110.0  45.0  0.347072  0.082996  20877.62   \n",
      "1      45.0  100.0  25.0   60.0  110.0  50.0  0.415583  0.102596  21001.02   \n",
      "2      45.0  100.0  30.0   60.0  110.0  55.0  0.441991  0.111409  21060.53   \n",
      "3      45.0  100.0  35.0   60.0  110.0  60.0  0.415248  0.107294  21047.53   \n",
      "4      45.0  100.0  40.0   60.0  110.0  65.0  0.326537  0.088607  20942.33   \n",
      "...     ...    ...   ...    ...    ...   ...       ...       ...       ...   \n",
      "5603  185.0  120.0  20.0  200.0  130.0  45.0  0.563327  0.077422  20855.49   \n",
      "5604  185.0  125.0   0.0  200.0  135.0  25.0  0.412948  0.055185  20725.91   \n",
      "5605  185.0  125.0   5.0  200.0  135.0  30.0  0.441209  0.059121  20749.99   \n",
      "5606  185.0  125.0  10.0  200.0  135.0  35.0  0.441209  0.059121  20749.99   \n",
      "5607  185.0  125.0  15.0  200.0  135.0  40.0  0.433670  0.058023  20744.80   \n",
      "\n",
      "          B [$]  \n",
      "0      53831.95  \n",
      "1     167194.45  \n",
      "2     212664.58  \n",
      "3     169989.56  \n",
      "4      19567.00  \n",
      "...         ...  \n",
      "5603  417178.68  \n",
      "5604  155314.18  \n",
      "5605  201212.15  \n",
      "5606  201212.15  \n",
      "5607  191400.00  \n",
      "\n",
      "[5608 rows x 10 columns]\n",
      "El código arroja un total de 5609  de caserones.\n"
     ]
    }
   ],
   "source": [
    "n_bloques = len(modelo_bloque.index)\n",
    "contador = 0\n",
    "\n",
    "dx = 20          #dimension x del caseron\n",
    "dy = 15          #dimension y del caseron\n",
    "dz = 30          #dimension z del caseron\n",
    "\n",
    "bx = 5           #dimension x del Bloque\n",
    "by = 5           #dimension y del Bloque\n",
    "bz = 5           #dimension z del Bloque\n",
    "\n",
    "n_bloques_x = dx / bx\n",
    "n_bloques_y = dy / by\n",
    "n_bloques_z = dz / bz\n",
    "\n",
    "cantidad_bloques_caseron = n_bloques_x * n_bloques_y * n_bloques_z   # Nos entrega la cantidad de bloque que debe haber\n",
    "                                                                     # en un caserón, hay caserones que se generan con menos \n",
    "                                                                     # bloques, dado que son cortados por la topografía, \n",
    "                                                                     # estos no se consideran,\n",
    "\n",
    "bloques_caseron_x = dx/bx  #cantidad de bloques en x que caben en un caseron\n",
    "bloques_caseron_y = dy/by  #cantidad de bloques en y que caben en un caseron\n",
    "bloques_caseron_z = dz/bz  #cantidad de bloques en z que caben en un caseron\n",
    "\n",
    "mx = modelo_bloque[\"X\"].max()  #Máxima coordenada en x del modelo entregado\n",
    "my = modelo_bloque[\"Y\"].max()  #Máxima coordenada en y del modelo entregado\n",
    "mz = modelo_bloque[\"Z\"].max()  #Máxima coordenada en z del modelo entregado\n",
    "\n",
    "for i in range(n_bloques):\n",
    "    cx_i = modelo_bloque.loc[i,\"X\"]  #Coordenada inicial en x del caseron (limite inferior)\n",
    "    cy_i = modelo_bloque.loc[i,\"Y\"]  #Coordenada inicial en y del caseron (limite inferior)\n",
    "    cz_i = modelo_bloque.loc[i,\"Z\"]  #Coordenada inicial en z del caseron (limite inferior)\n",
    "    \n",
    "    cx_f = cx_i + dx - bx            #Coordenada final en x del caseron (limite superior)\n",
    "    cy_f = cy_i + dy - by            #Coordenada final en y del caseron (limite superior)\n",
    "    cz_f = cz_i + dz - bz            #Coordenada final en z del caseron (limite superior)\n",
    "    \n",
    "    if (cx_f  <= mx) and (cy_f <= my) and (cz_f <= mz):   # Esta restricción permite que no se tomen caserones iniciales \n",
    "                                                          # cuyas coordenadas finales se encuentran fuera del modelo de bloques\n",
    "            \n",
    "        #Se filtran los bloques que exceden los limites establecidos de las dimensiones de los caserones\n",
    "        bloques_caseron = modelo_bloque.loc[ (modelo_bloque[\"X\"] >= cx_i) & (modelo_bloque[\"X\"] <= cx_f) &\n",
    "                                            (modelo_bloque[\"Y\"] >= cy_i) & (modelo_bloque[\"Y\"] <= cy_f) &\n",
    "                                            (modelo_bloque[\"Z\"] >= cz_i) & (modelo_bloque[\"Z\"] <= cz_f) ]\n",
    "        \n",
    "        n_b = len(bloques_caseron.index)                #La cantidad de bloques por caseron debe ser igual a 72 para este caso \n",
    "        b = float(bloques_caseron[\"profit [$]\"].sum())  #Beneficio total del caseron (suma de beneficio de bloques)\n",
    "\n",
    "        if b >= 0 and n_b == cantidad_bloques_caseron:  #Se buscan solo los que tengan beneficios positivos y 72 bloques\n",
    "            \n",
    "            #Se calcula tonelaje total del caseron\n",
    "            ton = float(bloques_caseron[\"tons [t]\"].sum())\n",
    "            \n",
    "            #Se calcular la ley de cobre de cada caserón\n",
    "            finos_cu = float(bloques_caseron[\"Finos Cu [t]\"].sum())\n",
    "            ley_cu = 100 * finos_cu / ton\n",
    "            \n",
    "            #Se calcula la ley de oro de cada caserón\n",
    "            finos_au = float(bloques_caseron[\"Finos Au [t]\"].sum())\n",
    "            ley_au = 1000000 * finos_au / ton \n",
    "            \n",
    "            #Se agregan los datos a la tabla de caserones\n",
    "            caserones.loc[contador] = [cx_i, cy_i, cz_i, cx_f, cy_f, cz_f,\n",
    "                                      ley_cu, ley_au, ton, b]\n",
    "            contador = contador + 1\n",
    "\n",
    "print(caserones)\n",
    "print(\"El código arroja un total de\", contador, \"caserones.\")"
   ]
  },
  {
   "cell_type": "markdown",
   "metadata": {},
   "source": [
    "#### Se procede a guardar el modelo en un archivo de nombre \"Modelo de caserones\".\n",
    "\n",
    "(Si desea guardarlo en una carpeta distinta, modifique la dirección en el código)"
   ]
  },
  {
   "cell_type": "code",
   "execution_count": 7,
   "metadata": {},
   "outputs": [],
   "source": [
    "caserones.to_csv(r\"C:\\Users\\jorge\\Documents\\jorge U\\Planificación minera\\Modelo de caserones.csv\", index=True)"
   ]
  },
  {
   "cell_type": "markdown",
   "metadata": {},
   "source": [
    "## Caserones en conflicto\n",
    "\n",
    "A continuación, en la tabla de caserones creada anteriormente agregamos una columna de listas de python, las cuales van a contener a los caserones que traslapan con cada uno de los ya identificados, según el índice que tienen en la tabla creada."
   ]
  },
  {
   "cell_type": "code",
   "execution_count": 9,
   "metadata": {},
   "outputs": [
    {
     "name": "stdout",
     "output_type": "stream",
     "text": [
      "        X_i    Y_i   Z_i    X_f    Y_f   Z_f    Cu [%]  Au [ppm]   Ton [t]  \\\n",
      "0      45.0  100.0  20.0   60.0  110.0  45.0  0.347072  0.082996  20877.62   \n",
      "1      45.0  100.0  25.0   60.0  110.0  50.0  0.415583  0.102596  21001.02   \n",
      "2      45.0  100.0  30.0   60.0  110.0  55.0  0.441991  0.111409  21060.53   \n",
      "3      45.0  100.0  35.0   60.0  110.0  60.0  0.415248  0.107294  21047.53   \n",
      "4      45.0  100.0  40.0   60.0  110.0  65.0  0.326537  0.088607  20942.33   \n",
      "...     ...    ...   ...    ...    ...   ...       ...       ...       ...   \n",
      "5603  185.0  120.0  20.0  200.0  130.0  45.0  0.563327  0.077422  20855.49   \n",
      "5604  185.0  125.0   0.0  200.0  135.0  25.0  0.412948  0.055185  20725.91   \n",
      "5605  185.0  125.0   5.0  200.0  135.0  30.0  0.441209  0.059121  20749.99   \n",
      "5606  185.0  125.0  10.0  200.0  135.0  35.0  0.441209  0.059121  20749.99   \n",
      "5607  185.0  125.0  15.0  200.0  135.0  40.0  0.433670  0.058023  20744.80   \n",
      "\n",
      "          B [$] Conflicto  \n",
      "0      53831.95        []  \n",
      "1     167194.45        []  \n",
      "2     212664.58        []  \n",
      "3     169989.56        []  \n",
      "4      19567.00        []  \n",
      "...         ...       ...  \n",
      "5603  417178.68        []  \n",
      "5604  155314.18        []  \n",
      "5605  201212.15        []  \n",
      "5606  201212.15        []  \n",
      "5607  191400.00        []  \n",
      "\n",
      "[5608 rows x 11 columns]\n"
     ]
    }
   ],
   "source": [
    "caserones[\"Conflicto\"] = 0\n",
    "caserones[\"Conflicto\"] = caserones[\"Conflicto\"].astype(object)\n",
    "\n",
    "n = len(caserones.index)\n",
    "for i in range(n):\n",
    "    caserones.at[i,\"Conflicto\"] = []\n",
    "    \n",
    "print(caserones)"
   ]
  },
  {
   "cell_type": "markdown",
   "metadata": {},
   "source": [
    "### Incompatibilidad por pilar o losa\n",
    "\n",
    "Para encontrar los casrones que traslapan, se buscan todos aquellos bloques que, por la posición de su coordenada inicial, compartirían un espacio con el caseron analizado, indistintamente de si traslapa por losa o pilar. Se filtran aquellos bloques que trasapan mediante la siguientes restricciónes:\n",
    "\n",
    "    1) La coordenada inicial de x debe ser mayor que la coordenada incial en x del bloque analizado menos el ancho del      caseron, y menor a la coordenada inicial del bloque analizado mas el ancho del caseron (Restricción por pilar).\n",
    "\n",
    "    2) La coordenada inicial de y debe ser mayor que la coordenada incial en y del bloque analizado menos el largo del      caseron, y menor a la coordenada inicial del bloque analizado mas el largo del caseron (Restricción por pilar).\n",
    "\n",
    "    3) La coordenada inicial de z debe ser mayor que la coordenada incial en z del bloque analizado menos el alto del        caseron, y menor a la coordenada inicial del bloque analizado mas el alto del caseron (Restricción por losa).\n",
    "    \n",
    "Las tres restricciones no son independientes y deben cumplirse todas para que el caserón traslape, dichas restricciones nos entregarán todos los bloques que traslapen, sin embargo incluirán el bloque mismo que se está analizando, por lo cual, se encuentra el índice del bloque y se elimina de la tabla."
   ]
  },
  {
   "cell_type": "code",
   "execution_count": 10,
   "metadata": {},
   "outputs": [
    {
     "name": "stdout",
     "output_type": "stream",
     "text": [
      "        X_i    Y_i   Z_i    X_f    Y_f   Z_f    Cu [%]  Au [ppm]   Ton [t]  \\\n",
      "0      45.0  100.0  20.0   60.0  110.0  45.0  0.347072  0.082996  20877.62   \n",
      "1      45.0  100.0  25.0   60.0  110.0  50.0  0.415583  0.102596  21001.02   \n",
      "2      45.0  100.0  30.0   60.0  110.0  55.0  0.441991  0.111409  21060.53   \n",
      "3      45.0  100.0  35.0   60.0  110.0  60.0  0.415248  0.107294  21047.53   \n",
      "4      45.0  100.0  40.0   60.0  110.0  65.0  0.326537  0.088607  20942.33   \n",
      "...     ...    ...   ...    ...    ...   ...       ...       ...       ...   \n",
      "5603  185.0  120.0  20.0  200.0  130.0  45.0  0.563327  0.077422  20855.49   \n",
      "5604  185.0  125.0   0.0  200.0  135.0  25.0  0.412948  0.055185  20725.91   \n",
      "5605  185.0  125.0   5.0  200.0  135.0  30.0  0.441209  0.059121  20749.99   \n",
      "5606  185.0  125.0  10.0  200.0  135.0  35.0  0.441209  0.059121  20749.99   \n",
      "5607  185.0  125.0  15.0  200.0  135.0  40.0  0.433670  0.058023  20744.80   \n",
      "\n",
      "          B [$]                                          Conflicto  \n",
      "0      53831.95  [1, 2, 3, 4, 5, 6, 7, 8, 9, 10, 11, 12, 13, 14...  \n",
      "1     167194.45  [0, 2, 3, 4, 5, 6, 7, 8, 9, 10, 11, 12, 13, 14...  \n",
      "2     212664.58  [0, 1, 3, 4, 5, 6, 7, 8, 9, 10, 11, 12, 13, 14...  \n",
      "3     169989.56  [0, 1, 2, 4, 5, 6, 7, 8, 9, 10, 11, 12, 13, 14...  \n",
      "4      19567.00  [0, 1, 2, 3, 5, 6, 7, 8, 9, 10, 11, 12, 13, 14...  \n",
      "...         ...                                                ...  \n",
      "5603  417178.68  [5270, 5271, 5272, 5273, 5274, 5275, 5276, 527...  \n",
      "5604  155314.18  [5279, 5280, 5281, 5282, 5283, 5284, 5288, 528...  \n",
      "5605  201212.15  [5279, 5280, 5281, 5282, 5283, 5284, 5285, 528...  \n",
      "5606  201212.15  [5279, 5280, 5281, 5282, 5283, 5284, 5285, 528...  \n",
      "5607  191400.00  [5279, 5280, 5281, 5282, 5283, 5284, 5285, 528...  \n",
      "\n",
      "[5608 rows x 11 columns]\n"
     ]
    }
   ],
   "source": [
    "for i in range(n):\n",
    "    cxi = caserones.loc[i,\"X_i\"]  #Coordenada x inicial del caserón analizado\n",
    "    cyi = caserones.loc[i,\"Y_i\"]  #Coordenada y inicial del caserón analizado\n",
    "    czi = caserones.loc[i,\"Z_i\"]  #Coordenada z inicial del caserón analizado\n",
    "    incompatibles = caserones.loc[ (caserones[\"X_i\"] > cxi - dx) & (caserones[\"X_i\"] < cxi + dx) &   #Restricción (1) (pilar)\n",
    "                                  (caserones[\"Y_i\"] > cyi - dy) & (caserones[\"Y_i\"] < cyi + dy) &    #Restricción (2) (pilar)\n",
    "                                  (caserones[\"Z_i\"] > czi - dz) & (caserones[\"Z_i\"] < czi + dz) ]    #Restricción (3) (losa)\n",
    "                                \n",
    "    #Para evitar que un caserón aparezca que traslapa consigo mismo\n",
    "    caseron_dado = caserones[(caserones[\"X_i\"] == cxi) & (caserones[\"Y_i\"] == cyi) & (caserones[\"Z_i\"] == czi)].index\n",
    "    cd = caseron_dado[0]                     #Se guarda el índice del caserón analizado\n",
    "    incompatibles = incompatibles.drop(cd)   #Se elimina de la tabla de incompatibles\n",
    "    \n",
    "    lista_incompatibles = list(incompatibles.index)\n",
    "    caserones.loc[i,\"Conflicto\"][:]=lista_incompatibles\n",
    "\n",
    "print(caserones)"
   ]
  },
  {
   "cell_type": "markdown",
   "metadata": {},
   "source": [
    "#### Armar pares de caserones que traslapan\n",
    "\n",
    "Se extrae la columna de listas con los caserones en conflicto y se emparejan con su indice, el cual corresponde tambien al número del caserón con el que traslapa."
   ]
  },
  {
   "cell_type": "code",
   "execution_count": 11,
   "metadata": {},
   "outputs": [
    {
     "name": "stdout",
     "output_type": "stream",
     "text": [
      "Se encuentran 1355600 pares de caserones conflictivos, sin filtrar.\n"
     ]
    }
   ],
   "source": [
    "lista_conflictivos = caserones[\"Conflicto\"] #Se extrae la comulna de caserones en conflicto\n",
    "largo_lista = len(lista_conflictivos)       #Se calcula el tamaño de dicha lista\n",
    "\n",
    "#Se ordena como pares ordenados\n",
    "pares_conflictivos = [ [a, b]\n",
    "                      for a in range(largo_lista)\n",
    "                      for b in lista_conflictivos[a]]\n",
    "\n",
    "l = len(pares_conflictivos)\n",
    "print(\"Se encuentran\", l, \"pares de caserones conflictivos, sin filtrar.\")\n",
    "\n",
    "pares = pd.DataFrame(pares_conflictivos)"
   ]
  },
  {
   "cell_type": "markdown",
   "metadata": {},
   "source": [
    "Muchos de los pares se repiten, vale decir (a,b) y (b,a), por lo cual se deben flitrar dichos casos.\n",
    "\n",
    "Para ello se usa la función sort de numpy para ordenarlos de manera que quede el menor primero, y luego se eliminan los pares duplicados (tal como se vió en auxiliar)."
   ]
  },
  {
   "cell_type": "code",
   "execution_count": 12,
   "metadata": {},
   "outputs": [
    {
     "name": "stdout",
     "output_type": "stream",
     "text": [
      "            0     1\n",
      "0           0     1\n",
      "1           0     2\n",
      "2           0     3\n",
      "3           0     4\n",
      "4           0     5\n",
      "...       ...   ...\n",
      "1355280  5604  5606\n",
      "1355281  5604  5607\n",
      "1355377  5605  5606\n",
      "1355378  5605  5607\n",
      "1355484  5606  5607\n",
      "\n",
      "[677800 rows x 2 columns]\n",
      "Se encuentran 677800 pares de caserones en conflicto\n"
     ]
    }
   ],
   "source": [
    "duplicados = pd.DataFrame(np.sort(pares[[0,1]], axis=1), index=pares.index).duplicated()\n",
    "pares = pares[~duplicados]\n",
    "print(pares)\n",
    "h = len(pares)\n",
    "print(\"Se encuentran\", h, \"pares de caserones en conflicto\")"
   ]
  },
  {
   "cell_type": "markdown",
   "metadata": {},
   "source": [
    "### Exportamos la tabla\n",
    "\n",
    "Se exporta a un archivo llamado \"Caserones traslapados\" (Si desea guardarlo en otra parte, cambie dirección en el código)."
   ]
  },
  {
   "cell_type": "code",
   "execution_count": 13,
   "metadata": {},
   "outputs": [],
   "source": [
    "pares.to_csv(r\"C:\\Users\\jorge\\Documents\\jorge U\\Planificación minera\\Caserones trasplapados.csv\",index=False)"
   ]
  }
 ],
 "metadata": {
  "kernelspec": {
   "display_name": "Python 3",
   "language": "python",
   "name": "python3"
  },
  "language_info": {
   "codemirror_mode": {
    "name": "ipython",
    "version": 3
   },
   "file_extension": ".py",
   "mimetype": "text/x-python",
   "name": "python",
   "nbconvert_exporter": "python",
   "pygments_lexer": "ipython3",
   "version": "3.7.6"
  }
 },
 "nbformat": 4,
 "nbformat_minor": 4
}
