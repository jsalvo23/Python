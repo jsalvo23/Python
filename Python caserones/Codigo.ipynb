{
 "cells": [
  {
   "cell_type": "markdown",
   "metadata": {},
   "source": [
    "# TAREA 4\n",
    "## Planificación Minera - MI5073\n",
    "Autor: Jorge Salvo Marín\n",
    "\n",
    "Profesor: Juan L. Yarmuch\n",
    "\n",
    "Profesor Auxiliar: Erick Sanhueza\n",
    "\n",
    "Ayudantes: Gabriel Ojeda y Francisco Arévalo"
   ]
  },
  {
   "cell_type": "code",
   "execution_count": 1,
   "metadata": {},
   "outputs": [],
   "source": [
    "from pulp import *\n",
    "import numpy as np\n",
    "import matplotlib as plt"
   ]
  },
  {
   "cell_type": "markdown",
   "metadata": {},
   "source": [
    "## Problema de optimización lineal\n",
    "\n",
    "$$f(x) = \\sum_{t \\in T} \\delta_{t} \\sum_{a \\in A} w_{a} x_{at} $$\n",
    "s.t.\n",
    "\n",
    "1) Precedencia de actividades\n",
    "$$ x_{ut} \\leq \\sum_{T \\leq t} x_{vt} $$\n",
    "\n",
    "2) Restricci´on de capacidades\n",
    "$$ \\sum_{a \\in A} f_{a}^i  x_{at} \\leq M_{t}^i  $$, con $$ t \\in T, ~ f^i \\in F^{i}, ~ i \\in {r,h,c} $$\n",
    "\n",
    "3) La actividad solo se puede realizar una vez en todo el horizonte temporal.\n",
    "$$  \\sum_{t \\in T} x_{at} \\leq 1 $$, con $$ a \\in A $$\n",
    "\n",
    "4) Variables\n",
    "$$ ( x_{a} \\in {0, 1} ) , ~ para ~ a \\in A-C ~ ~ y ~ ~ ( x_{a} \\in [0, 1] ) ~ para ~ a \\in C $$\n",
    "\n",
    "\n",
    "\n",
    "## Definición de problema"
   ]
  },
  {
   "cell_type": "code",
   "execution_count": 2,
   "metadata": {},
   "outputs": [],
   "source": [
    "agenda = LpProblem(\"SLS\", LpMaximize)"
   ]
  },
  {
   "cell_type": "markdown",
   "metadata": {},
   "source": [
    "## Parámetros"
   ]
  },
  {
   "cell_type": "code",
   "execution_count": 3,
   "metadata": {},
   "outputs": [],
   "source": [
    "set_A = list(range(1,24))    #Lista de Actividades (rampa, accesos y caserones)\n",
    "set_W = { 1:-100 , 2:-100 , 3:-100 , 4:-50 , 5:600 , 6:-50 , 7:200 ,\n",
    "         8:-110 , 9:-110 , 10:-110 , 11:-110 , 12:-55 , 13:400 , 14:-55 , 15:250,\n",
    "         16:-120 , 17:-120 , 18:-120 , 19:-120 , 20:-55 , 21:8000 ,\n",
    "         22:-120 , 23:230 }  #Diccionario de actividades asociadas al costo\n",
    "\n",
    "T = list(range(1,11))\n",
    "\n",
    "#Precedencia\n",
    "set_P = [(2,1),(3,2),(4,3),(5,4),(6,3),(7,6),(8,3),(9,8),(10,9),(11,10),(12,11),(13,12),\n",
    "        (14,11),(15,14),(16,11),(17,16),(18,17),(19,18),(20,19),(21,20),(22,19),(23,22)]"
   ]
  },
  {
   "cell_type": "code",
   "execution_count": 4,
   "metadata": {},
   "outputs": [],
   "source": [
    "set_T = list(range(1,11))  #Períodos representados por años en los que se realizan las actividades\n",
    "\n",
    "set_Fr = {1:300 , 2:300 , 3:300 , 8:300 , 9:300 , 10:300 , 11:300 , 16:300 , 17:200 ,\n",
    "          18:300, 19:300 }  #Toneladas por seccion rampa\n",
    "set_Fh = {4:500 , 6:300 , 12:600 , 14:200 , 20:800 , 22:100}  #Toneladas por seccion de avances horizontales (accesos)\n",
    "set_Fc = {5:1000 , 7:1200 , 13:700 , 15:1600 , 21:2000 , 23:800}  #Toneladas por seccion de caserones"
   ]
  },
  {
   "cell_type": "code",
   "execution_count": 5,
   "metadata": {},
   "outputs": [],
   "source": [
    "d = 0.1     #Tasa de descuento\n",
    "M_r = 900   #Capacidad de metros anuales en desarrollos verticales [m/año]\n",
    "M_h = 900   #Capacidad de metros anuales en desarrollos horizontales [m/año]\n",
    "M_c = 1500  #Capacidad mina en toneladas por año [t/año]"
   ]
  },
  {
   "cell_type": "markdown",
   "metadata": {},
   "source": [
    "## Variables"
   ]
  },
  {
   "cell_type": "code",
   "execution_count": 6,
   "metadata": {},
   "outputs": [],
   "source": [
    "desarrollos = []\n",
    "for a in set_A:\n",
    "    if a not in set_Fc:\n",
    "        desarrollos.append(a)     #Va agregando a la lista el número de la actividad que corresponde a los desarrollos"
   ]
  },
  {
   "cell_type": "code",
   "execution_count": 7,
   "metadata": {},
   "outputs": [],
   "source": [
    "X = pulp.LpVariable.dicts(\"x\", (desarrollos,set_T), cat=\"Binary\")   #Correspondiente a 0 si el desarrollo no se ha \n",
    "                                                                    #explotado en período t y 1 se explotó\n",
    "Y = pulp.LpVariable.dicts(\"y\", (set_Fc,set_T), lowBound = 0, upBound=1,\n",
    "                          cat=\"Continuous\")    #Correspondiente a la fracción del caserón que se ha explotado hasta el período t"
   ]
  },
  {
   "cell_type": "markdown",
   "metadata": {},
   "source": [
    "## Objetivo"
   ]
  },
  {
   "cell_type": "code",
   "execution_count": 8,
   "metadata": {},
   "outputs": [],
   "source": [
    "agenda += pulp.lpSum( [X[a][t] * set_W[a] / ((1 + d)**t) for a in desarrollos  for t in set_T] +      #Correspondiente a los desarrollos\n",
    "                     [ Y[c][t] * set_W[c] / ((1 + d)**t) for c in set_Fc  for t in set_T] ),\"NPV\" #Correspondiente a los Caserones"
   ]
  },
  {
   "cell_type": "markdown",
   "metadata": {},
   "source": [
    "## Restricciones\n",
    "\n",
    "### Restricción de precedencia"
   ]
  },
  {
   "cell_type": "code",
   "execution_count": 9,
   "metadata": {},
   "outputs": [],
   "source": [
    "for t in set_T:\n",
    "    for (u,v) in set_P:\n",
    "        if (u in desarrollos) and (v in desarrollos):    #Resticción para los desarrolos (binarios)\n",
    "            agenda += X[u][t] <= lpSum( X[v][tau] for tau in range(1,t+1) ), f\"precedences{u,v,t}\" \n",
    "        elif (u in desarrollos) and (v in set_Fc):    #Resticción para un desarrollo y un caserón\n",
    "            agenda += X[u][t] <= lpSum( Y[v][tau] for tau in range(1,t+1) ), f\"precedences{u,v,t}\" \n",
    "        elif (u in set_Fc) and (v in desarrollos):    #Resticción para un caserón y un desarrollo\n",
    "            agenda += Y[u][t] <= lpSum( X[v][tau] for tau in range(1,t+1) ), f\"precedences{u,v,t}\" "
   ]
  },
  {
   "cell_type": "markdown",
   "metadata": {},
   "source": [
    "### Restricción de Recursos"
   ]
  },
  {
   "cell_type": "code",
   "execution_count": 10,
   "metadata": {},
   "outputs": [],
   "source": [
    "for t in set_T:\n",
    "    agenda += lpSum( X[fr][t] * set_Fr[fr] for fr in set_Fr) <= M_r, f\"resources_F1_{t}\"   #Restricción de capacidad de metros/año rampa\n",
    "    agenda += lpSum( X[fh][t] * set_Fh[fh] for fh in set_Fh) <= M_h, f\"resources_F2_{t}\"   #Restricción de capacidad de metros/año accesos\n",
    "    agenda += lpSum( Y[fc][t] * set_Fc[fc] for fc in set_Fc) <= M_c, f\"resources_F3_{t}\"   #Restricción de capacidad de toneladas/año mina"
   ]
  },
  {
   "cell_type": "markdown",
   "metadata": {},
   "source": [
    "### Restricción de Unicidad"
   ]
  },
  {
   "cell_type": "code",
   "execution_count": 11,
   "metadata": {},
   "outputs": [],
   "source": [
    "for a in desarrollos:\n",
    "    agenda += lpSum( X[a][t] for t in set_T) <= 1, f\"uni__{a}\"   #Se debe haber explotado 1 vez en total\n",
    "    \n",
    "for fc in set_Fc:\n",
    "    agenda += lpSum( Y[fc][t] for t in set_T) <= 1, f\"completion_{fc}\"  #Se debe haber explotado 1 vez en total"
   ]
  },
  {
   "cell_type": "markdown",
   "metadata": {},
   "source": [
    "## Resolver"
   ]
  },
  {
   "cell_type": "code",
   "execution_count": 12,
   "metadata": {},
   "outputs": [
    {
     "data": {
      "text/plain": [
       "1"
      ]
     },
     "execution_count": 12,
     "metadata": {},
     "output_type": "execute_result"
    }
   ],
   "source": [
    "agenda.solve()    #Resuelve el problema de optimización lineal"
   ]
  },
  {
   "cell_type": "markdown",
   "metadata": {},
   "source": [
    "## Estado de la Solución"
   ]
  },
  {
   "cell_type": "code",
   "execution_count": 13,
   "metadata": {},
   "outputs": [
    {
     "name": "stdout",
     "output_type": "stream",
     "text": [
      "Estado de la solución: Optimal\n"
     ]
    }
   ],
   "source": [
    "print(\"Estado de la solución:\", LpStatus[agenda.status]) #Muestra el estado de la solución encontrada"
   ]
  },
  {
   "cell_type": "markdown",
   "metadata": {},
   "source": [
    "## Valor de las Variables"
   ]
  },
  {
   "cell_type": "code",
   "execution_count": 14,
   "metadata": {},
   "outputs": [
    {
     "name": "stdout",
     "output_type": "stream",
     "text": [
      "x_10_3 = 1.0\n",
      "x_11_3 = 1.0\n",
      "x_12_3 = 1.0\n",
      "x_14_3 = 1.0\n",
      "x_16_3 = 1.0\n",
      "x_17_4 = 1.0\n",
      "x_18_4 = 1.0\n",
      "x_19_4 = 1.0\n",
      "x_1_1 = 1.0\n",
      "x_20_4 = 1.0\n",
      "x_22_5 = 1.0\n",
      "x_2_1 = 1.0\n",
      "x_3_1 = 1.0\n",
      "x_4_1 = 1.0\n",
      "x_6_1 = 1.0\n",
      "x_8_2 = 1.0\n",
      "x_9_2 = 1.0\n",
      "y_13_3 = 1.0\n",
      "y_15_3 = 0.5\n",
      "y_15_5 = 0.125\n",
      "y_15_6 = 0.375\n",
      "y_21_4 = 0.75\n",
      "y_21_5 = 0.25\n",
      "y_23_5 = 1.0\n",
      "y_5_1 = 1.0\n",
      "y_7_1 = 0.41666667\n",
      "y_7_2 = 0.58333333\n"
     ]
    }
   ],
   "source": [
    "for i in agenda.variables():\n",
    "    if i.varValue > 0:\n",
    "        print(i.name, \"=\", i.varValue)  #Irá imprimiendo las fracciones de extracción de cada actividad por período"
   ]
  }
 ],
 "metadata": {
  "kernelspec": {
   "display_name": "Python 3",
   "language": "python",
   "name": "python3"
  },
  "language_info": {
   "codemirror_mode": {
    "name": "ipython",
    "version": 3
   },
   "file_extension": ".py",
   "mimetype": "text/x-python",
   "name": "python",
   "nbconvert_exporter": "python",
   "pygments_lexer": "ipython3",
   "version": "3.7.6"
  }
 },
 "nbformat": 4,
 "nbformat_minor": 4
}
